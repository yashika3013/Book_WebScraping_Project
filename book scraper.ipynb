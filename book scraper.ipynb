{
 "cells": [
  {
   "cell_type": "code",
   "execution_count": 1,
   "id": "8f47d087",
   "metadata": {},
   "outputs": [],
   "source": [
    "import requests\n",
    "from bs4 import BeautifulSoup\n",
    "from tqdm import tqdm"
   ]
  },
  {
   "cell_type": "code",
   "execution_count": 27,
   "id": "8e6067ab",
   "metadata": {},
   "outputs": [
    {
     "name": "stderr",
     "output_type": "stream",
     "text": [
      "100%|██████████████████████████████████████████████████████████████████████████████████| 50/50 [01:05<00:00,  1.31s/it]\n"
     ]
    }
   ],
   "source": [
    "data =[]\n",
    "for i in tqdm(range(1,51)):\n",
    "    link = 'https://books.toscrape.com/catalogue/page-'+str(i)+'.html'\n",
    "    res = requests.get(link)\n",
    "    soup = BeautifulSoup(res.text,'html.parser')\n",
    "    \n",
    "    for sp in soup.find_all('li',class_ = 'col-xs-6 col-sm-4 col-md-3 col-lg-3'):\n",
    "        book_link  = 'https://books.toscrape.com/catalogue/' + sp.find_all('a')[-1].get('href')\n",
    "        title      = sp.find_all('a')[-1].get('title')\n",
    "        image_link = 'https://books.toscrape.com/catalogue/' + sp.find('img').get('src')[3:]\n",
    "        rating     = sp.find('p').get('class')[-1]\n",
    "        price      = sp.find('p',class_ = 'price_color').text[1:]\n",
    "        stock      = sp.find('p',class_ = 'instock availability').text.strip()\n",
    "        data.append([title,rating,price,stock,book_link,image_link])"
   ]
  },
  {
   "cell_type": "code",
   "execution_count": 28,
   "id": "e5f0a866",
   "metadata": {},
   "outputs": [
    {
     "data": {
      "text/plain": [
       "1000"
      ]
     },
     "execution_count": 28,
     "metadata": {},
     "output_type": "execute_result"
    }
   ],
   "source": [
    "len(data)"
   ]
  },
  {
   "cell_type": "code",
   "execution_count": 29,
   "id": "6abead3e",
   "metadata": {},
   "outputs": [
    {
     "data": {
      "text/plain": [
       "['A Light in the Attic',\n",
       " 'Three',\n",
       " '£51.77',\n",
       " 'In stock',\n",
       " 'https://books.toscrape.com/catalogue/a-light-in-the-attic_1000/index.html',\n",
       " 'https://books.toscrape.com/catalogue/media/cache/2c/da/2cdad67c44b002e7ead0cc35693c0e8b.jpg']"
      ]
     },
     "execution_count": 29,
     "metadata": {},
     "output_type": "execute_result"
    }
   ],
   "source": [
    "data[0]"
   ]
  },
  {
   "cell_type": "code",
   "execution_count": 30,
   "id": "5dc1416e",
   "metadata": {},
   "outputs": [
    {
     "data": {
      "text/plain": [
       "['1,000 Places to See Before You Die',\n",
       " 'Five',\n",
       " '£26.08',\n",
       " 'In stock',\n",
       " 'https://books.toscrape.com/catalogue/1000-places-to-see-before-you-die_1/index.html',\n",
       " 'https://books.toscrape.com/catalogue/media/cache/d7/0f/d70f7edd92705c45a82118c3ff6c299d.jpg']"
      ]
     },
     "execution_count": 30,
     "metadata": {},
     "output_type": "execute_result"
    }
   ],
   "source": [
    "data[-1]"
   ]
  },
  {
   "cell_type": "code",
   "execution_count": 33,
   "id": "96f4c938",
   "metadata": {},
   "outputs": [],
   "source": [
    "import pandas as pd \n",
    "df = pd.DataFrame(data,columns = ['Title','rating','price','stock','book_link','image_link'])"
   ]
  },
  {
   "cell_type": "code",
   "execution_count": 34,
   "id": "bb4a5bee",
   "metadata": {},
   "outputs": [
    {
     "data": {
      "text/html": [
       "<div>\n",
       "<style scoped>\n",
       "    .dataframe tbody tr th:only-of-type {\n",
       "        vertical-align: middle;\n",
       "    }\n",
       "\n",
       "    .dataframe tbody tr th {\n",
       "        vertical-align: top;\n",
       "    }\n",
       "\n",
       "    .dataframe thead th {\n",
       "        text-align: right;\n",
       "    }\n",
       "</style>\n",
       "<table border=\"1\" class=\"dataframe\">\n",
       "  <thead>\n",
       "    <tr style=\"text-align: right;\">\n",
       "      <th></th>\n",
       "      <th>Title</th>\n",
       "      <th>rating</th>\n",
       "      <th>price</th>\n",
       "      <th>stock</th>\n",
       "      <th>book_link</th>\n",
       "      <th>image_link</th>\n",
       "    </tr>\n",
       "  </thead>\n",
       "  <tbody>\n",
       "    <tr>\n",
       "      <th>0</th>\n",
       "      <td>A Light in the Attic</td>\n",
       "      <td>Three</td>\n",
       "      <td>£51.77</td>\n",
       "      <td>In stock</td>\n",
       "      <td>https://books.toscrape.com/catalogue/a-light-i...</td>\n",
       "      <td>https://books.toscrape.com/catalogue/media/cac...</td>\n",
       "    </tr>\n",
       "    <tr>\n",
       "      <th>1</th>\n",
       "      <td>Tipping the Velvet</td>\n",
       "      <td>One</td>\n",
       "      <td>£53.74</td>\n",
       "      <td>In stock</td>\n",
       "      <td>https://books.toscrape.com/catalogue/tipping-t...</td>\n",
       "      <td>https://books.toscrape.com/catalogue/media/cac...</td>\n",
       "    </tr>\n",
       "    <tr>\n",
       "      <th>2</th>\n",
       "      <td>Soumission</td>\n",
       "      <td>One</td>\n",
       "      <td>£50.10</td>\n",
       "      <td>In stock</td>\n",
       "      <td>https://books.toscrape.com/catalogue/soumissio...</td>\n",
       "      <td>https://books.toscrape.com/catalogue/media/cac...</td>\n",
       "    </tr>\n",
       "    <tr>\n",
       "      <th>3</th>\n",
       "      <td>Sharp Objects</td>\n",
       "      <td>Four</td>\n",
       "      <td>£47.82</td>\n",
       "      <td>In stock</td>\n",
       "      <td>https://books.toscrape.com/catalogue/sharp-obj...</td>\n",
       "      <td>https://books.toscrape.com/catalogue/media/cac...</td>\n",
       "    </tr>\n",
       "    <tr>\n",
       "      <th>4</th>\n",
       "      <td>Sapiens: A Brief History of Humankind</td>\n",
       "      <td>Five</td>\n",
       "      <td>£54.23</td>\n",
       "      <td>In stock</td>\n",
       "      <td>https://books.toscrape.com/catalogue/sapiens-a...</td>\n",
       "      <td>https://books.toscrape.com/catalogue/media/cac...</td>\n",
       "    </tr>\n",
       "  </tbody>\n",
       "</table>\n",
       "</div>"
      ],
      "text/plain": [
       "                                   Title rating   price     stock  \\\n",
       "0                   A Light in the Attic  Three  £51.77  In stock   \n",
       "1                     Tipping the Velvet    One  £53.74  In stock   \n",
       "2                             Soumission    One  £50.10  In stock   \n",
       "3                          Sharp Objects   Four  £47.82  In stock   \n",
       "4  Sapiens: A Brief History of Humankind   Five  £54.23  In stock   \n",
       "\n",
       "                                           book_link  \\\n",
       "0  https://books.toscrape.com/catalogue/a-light-i...   \n",
       "1  https://books.toscrape.com/catalogue/tipping-t...   \n",
       "2  https://books.toscrape.com/catalogue/soumissio...   \n",
       "3  https://books.toscrape.com/catalogue/sharp-obj...   \n",
       "4  https://books.toscrape.com/catalogue/sapiens-a...   \n",
       "\n",
       "                                          image_link  \n",
       "0  https://books.toscrape.com/catalogue/media/cac...  \n",
       "1  https://books.toscrape.com/catalogue/media/cac...  \n",
       "2  https://books.toscrape.com/catalogue/media/cac...  \n",
       "3  https://books.toscrape.com/catalogue/media/cac...  \n",
       "4  https://books.toscrape.com/catalogue/media/cac...  "
      ]
     },
     "execution_count": 34,
     "metadata": {},
     "output_type": "execute_result"
    }
   ],
   "source": [
    "df.head()"
   ]
  },
  {
   "cell_type": "code",
   "execution_count": 8,
   "id": "5ca46a40",
   "metadata": {},
   "outputs": [
    {
     "data": {
      "text/plain": [
       "title         0\n",
       "rating        0\n",
       "price         0\n",
       "stock         0\n",
       "book_link     0\n",
       "image_link    0\n",
       "dtype: int64"
      ]
     },
     "execution_count": 8,
     "metadata": {},
     "output_type": "execute_result"
    }
   ],
   "source": [
    "df.isnull().sum()"
   ]
  },
  {
   "cell_type": "code",
   "execution_count": 9,
   "id": "6e50e109",
   "metadata": {},
   "outputs": [],
   "source": [
    "df.to_csv('books.csv',index=False)"
   ]
  },
  {
   "cell_type": "code",
   "execution_count": 10,
   "id": "eac717d8",
   "metadata": {},
   "outputs": [
    {
     "data": {
      "text/html": [
       "<div>\n",
       "<style scoped>\n",
       "    .dataframe tbody tr th:only-of-type {\n",
       "        vertical-align: middle;\n",
       "    }\n",
       "\n",
       "    .dataframe tbody tr th {\n",
       "        vertical-align: top;\n",
       "    }\n",
       "\n",
       "    .dataframe thead th {\n",
       "        text-align: right;\n",
       "    }\n",
       "</style>\n",
       "<table border=\"1\" class=\"dataframe\">\n",
       "  <thead>\n",
       "    <tr style=\"text-align: right;\">\n",
       "      <th></th>\n",
       "      <th>title</th>\n",
       "      <th>rating</th>\n",
       "      <th>price</th>\n",
       "      <th>stock</th>\n",
       "      <th>book_link</th>\n",
       "      <th>image_link</th>\n",
       "    </tr>\n",
       "  </thead>\n",
       "  <tbody>\n",
       "    <tr>\n",
       "      <th>0</th>\n",
       "      <td>A Light in the Attic</td>\n",
       "      <td>Three</td>\n",
       "      <td>£51.77</td>\n",
       "      <td>In stock</td>\n",
       "      <td>https://books.toscrape.com/catalogue/a-light-i...</td>\n",
       "      <td>https://books.toscrape.com/catalogue/media/cac...</td>\n",
       "    </tr>\n",
       "    <tr>\n",
       "      <th>1</th>\n",
       "      <td>Tipping the Velvet</td>\n",
       "      <td>One</td>\n",
       "      <td>£53.74</td>\n",
       "      <td>In stock</td>\n",
       "      <td>https://books.toscrape.com/catalogue/tipping-t...</td>\n",
       "      <td>https://books.toscrape.com/catalogue/media/cac...</td>\n",
       "    </tr>\n",
       "    <tr>\n",
       "      <th>2</th>\n",
       "      <td>Soumission</td>\n",
       "      <td>One</td>\n",
       "      <td>£50.10</td>\n",
       "      <td>In stock</td>\n",
       "      <td>https://books.toscrape.com/catalogue/soumissio...</td>\n",
       "      <td>https://books.toscrape.com/catalogue/media/cac...</td>\n",
       "    </tr>\n",
       "    <tr>\n",
       "      <th>3</th>\n",
       "      <td>Sharp Objects</td>\n",
       "      <td>Four</td>\n",
       "      <td>£47.82</td>\n",
       "      <td>In stock</td>\n",
       "      <td>https://books.toscrape.com/catalogue/sharp-obj...</td>\n",
       "      <td>https://books.toscrape.com/catalogue/media/cac...</td>\n",
       "    </tr>\n",
       "    <tr>\n",
       "      <th>4</th>\n",
       "      <td>Sapiens: A Brief History of Humankind</td>\n",
       "      <td>Five</td>\n",
       "      <td>£54.23</td>\n",
       "      <td>In stock</td>\n",
       "      <td>https://books.toscrape.com/catalogue/sapiens-a...</td>\n",
       "      <td>https://books.toscrape.com/catalogue/media/cac...</td>\n",
       "    </tr>\n",
       "  </tbody>\n",
       "</table>\n",
       "</div>"
      ],
      "text/plain": [
       "                                   title rating   price     stock  \\\n",
       "0                   A Light in the Attic  Three  £51.77  In stock   \n",
       "1                     Tipping the Velvet    One  £53.74  In stock   \n",
       "2                             Soumission    One  £50.10  In stock   \n",
       "3                          Sharp Objects   Four  £47.82  In stock   \n",
       "4  Sapiens: A Brief History of Humankind   Five  £54.23  In stock   \n",
       "\n",
       "                                           book_link  \\\n",
       "0  https://books.toscrape.com/catalogue/a-light-i...   \n",
       "1  https://books.toscrape.com/catalogue/tipping-t...   \n",
       "2  https://books.toscrape.com/catalogue/soumissio...   \n",
       "3  https://books.toscrape.com/catalogue/sharp-obj...   \n",
       "4  https://books.toscrape.com/catalogue/sapiens-a...   \n",
       "\n",
       "                                          image_link  \n",
       "0  https://books.toscrape.com/catalogue/media/cac...  \n",
       "1  https://books.toscrape.com/catalogue/media/cac...  \n",
       "2  https://books.toscrape.com/catalogue/media/cac...  \n",
       "3  https://books.toscrape.com/catalogue/media/cac...  \n",
       "4  https://books.toscrape.com/catalogue/media/cac...  "
      ]
     },
     "execution_count": 10,
     "metadata": {},
     "output_type": "execute_result"
    }
   ],
   "source": [
    "df = pd.read_csv('books.csv')\n",
    "df.head()"
   ]
  },
  {
   "cell_type": "code",
   "execution_count": null,
   "id": "16041043",
   "metadata": {},
   "outputs": [],
   "source": [
    "dataa = []\n",
    "for i in tqdm(df['book_link']):\n",
    "    res = requests.get(i)\n",
    "    soup = BeautifulSoup(res.text,'html.parser')\n",
    "    book_type = soup.find('ul',class_ = 'breadcrumb').find_all('a')[2].text\n",
    "    upc = soup.find('table', class_ = 'table table-striped').find_all('td')[0].text\n",
    "    price_x = soup.find('table', class_ = 'table table-striped').find_all('td')[2].text[2:]\n",
    "    price_i = soup.find('table', class_ = 'table table-striped').find_all('td')[3].text[2:]\n",
    "    tax = soup.find('table', class_ = 'table table-striped').find_all('td')[4].text[2:]\n",
    "    qn = soup.find('table', class_ = 'table table-striped').find_all('td')[5].text\n",
    "    reviews = soup.find('table', class_ = 'table table-striped').find_all('td')[6].text\n",
    "    \n",
    "    data.append([book_type,price_x,price_i,tax,qn,upc,reviews])"
   ]
  },
  {
   "cell_type": "code",
   "execution_count": 14,
   "id": "836433d7",
   "metadata": {},
   "outputs": [
    {
     "name": "stderr",
     "output_type": "stream",
     "text": [
      "100%|██████████████████████████████████████████████████████████████████████████████| 1000/1000 [17:51<00:00,  1.07s/it]\n"
     ]
    }
   ],
   "source": [
    "dataa = []\n",
    "for i in tqdm(df['book_link']):\n",
    "    res = requests.get(i)\n",
    "    soup = BeautifulSoup(res.text,'html.parser')\n",
    "    book_type = soup.find('ul',class_ = 'breadcrumb').find_all('a')[2].text\n",
    "    temp = soup.find('table', class_ = 'table table-striped').find_all('td')\n",
    "    upc = temp[0].text\n",
    "    price_x = temp[2].text[2:]\n",
    "    price_i = temp[3].text[2:]\n",
    "    tax = temp[4].text[2:]\n",
    "    qn = temp[5].text\n",
    "    reviews = temp[6].text\n",
    "    \n",
    "    dataa.append([book_type,price_x,price_i,tax,qn,upc,reviews])"
   ]
  },
  {
   "cell_type": "code",
   "execution_count": 19,
   "id": "bec172f1",
   "metadata": {},
   "outputs": [],
   "source": [
    "df2 = pd.DataFrame(dataa,columns=['category','price_e_tax','price_i_tax','tax','quantity','upc','reviews'])"
   ]
  },
  {
   "cell_type": "code",
   "execution_count": 20,
   "id": "087e6702",
   "metadata": {},
   "outputs": [
    {
     "data": {
      "text/html": [
       "<div>\n",
       "<style scoped>\n",
       "    .dataframe tbody tr th:only-of-type {\n",
       "        vertical-align: middle;\n",
       "    }\n",
       "\n",
       "    .dataframe tbody tr th {\n",
       "        vertical-align: top;\n",
       "    }\n",
       "\n",
       "    .dataframe thead th {\n",
       "        text-align: right;\n",
       "    }\n",
       "</style>\n",
       "<table border=\"1\" class=\"dataframe\">\n",
       "  <thead>\n",
       "    <tr style=\"text-align: right;\">\n",
       "      <th></th>\n",
       "      <th>category</th>\n",
       "      <th>price_e_tax</th>\n",
       "      <th>price_i_tax</th>\n",
       "      <th>tax</th>\n",
       "      <th>quantity</th>\n",
       "      <th>upc</th>\n",
       "      <th>reviews</th>\n",
       "    </tr>\n",
       "  </thead>\n",
       "  <tbody>\n",
       "    <tr>\n",
       "      <th>0</th>\n",
       "      <td>Poetry</td>\n",
       "      <td>51.77</td>\n",
       "      <td>51.77</td>\n",
       "      <td>0.00</td>\n",
       "      <td>In stock (22 available)</td>\n",
       "      <td>a897fe39b1053632</td>\n",
       "      <td>0</td>\n",
       "    </tr>\n",
       "    <tr>\n",
       "      <th>1</th>\n",
       "      <td>Historical Fiction</td>\n",
       "      <td>53.74</td>\n",
       "      <td>53.74</td>\n",
       "      <td>0.00</td>\n",
       "      <td>In stock (20 available)</td>\n",
       "      <td>90fa61229261140a</td>\n",
       "      <td>0</td>\n",
       "    </tr>\n",
       "    <tr>\n",
       "      <th>2</th>\n",
       "      <td>Fiction</td>\n",
       "      <td>50.10</td>\n",
       "      <td>50.10</td>\n",
       "      <td>0.00</td>\n",
       "      <td>In stock (20 available)</td>\n",
       "      <td>6957f44c3847a760</td>\n",
       "      <td>0</td>\n",
       "    </tr>\n",
       "    <tr>\n",
       "      <th>3</th>\n",
       "      <td>Mystery</td>\n",
       "      <td>47.82</td>\n",
       "      <td>47.82</td>\n",
       "      <td>0.00</td>\n",
       "      <td>In stock (20 available)</td>\n",
       "      <td>e00eb4fd7b871a48</td>\n",
       "      <td>0</td>\n",
       "    </tr>\n",
       "    <tr>\n",
       "      <th>4</th>\n",
       "      <td>History</td>\n",
       "      <td>54.23</td>\n",
       "      <td>54.23</td>\n",
       "      <td>0.00</td>\n",
       "      <td>In stock (20 available)</td>\n",
       "      <td>4165285e1663650f</td>\n",
       "      <td>0</td>\n",
       "    </tr>\n",
       "  </tbody>\n",
       "</table>\n",
       "</div>"
      ],
      "text/plain": [
       "             category price_e_tax price_i_tax   tax                 quantity  \\\n",
       "0              Poetry       51.77       51.77  0.00  In stock (22 available)   \n",
       "1  Historical Fiction       53.74       53.74  0.00  In stock (20 available)   \n",
       "2             Fiction       50.10       50.10  0.00  In stock (20 available)   \n",
       "3             Mystery       47.82       47.82  0.00  In stock (20 available)   \n",
       "4             History       54.23       54.23  0.00  In stock (20 available)   \n",
       "\n",
       "                upc reviews  \n",
       "0  a897fe39b1053632       0  \n",
       "1  90fa61229261140a       0  \n",
       "2  6957f44c3847a760       0  \n",
       "3  e00eb4fd7b871a48       0  \n",
       "4  4165285e1663650f       0  "
      ]
     },
     "execution_count": 20,
     "metadata": {},
     "output_type": "execute_result"
    }
   ],
   "source": [
    "df2.head()"
   ]
  },
  {
   "cell_type": "code",
   "execution_count": 35,
   "id": "c5311178",
   "metadata": {},
   "outputs": [],
   "source": [
    "df2.to_csv('data.csv',index= False)"
   ]
  },
  {
   "cell_type": "code",
   "execution_count": 36,
   "id": "ad611a63",
   "metadata": {},
   "outputs": [],
   "source": [
    "final_df = pd.DataFrame()"
   ]
  },
  {
   "cell_type": "code",
   "execution_count": 40,
   "id": "73b06410",
   "metadata": {},
   "outputs": [],
   "source": [
    "final_df['Title'] = df['Title']\n",
    "final_df['upc'] = df2['upc']\n",
    "final_df['category'] = df2['category']\n",
    "final_df['price_e_tax'] = df2['category']\n",
    "final_df['price_i_tax'] = df2['category']\n",
    "final_df['tax'] = df2['tax']\n",
    "final_df['rating'] = df['rating']\n",
    "final_df['reviews'] = df2['reviews']\n",
    "final_df['quantity'] = df2['quantity']\n",
    "final_df['stock'] = df['stock']\n",
    "final_df['book_link'] = df['book_link']\n",
    "final_df['img_link'] = df['image_link']"
   ]
  },
  {
   "cell_type": "code",
   "execution_count": 46,
   "id": "24c54443",
   "metadata": {},
   "outputs": [
    {
     "data": {
      "text/html": [
       "<div>\n",
       "<style scoped>\n",
       "    .dataframe tbody tr th:only-of-type {\n",
       "        vertical-align: middle;\n",
       "    }\n",
       "\n",
       "    .dataframe tbody tr th {\n",
       "        vertical-align: top;\n",
       "    }\n",
       "\n",
       "    .dataframe thead th {\n",
       "        text-align: right;\n",
       "    }\n",
       "</style>\n",
       "<table border=\"1\" class=\"dataframe\">\n",
       "  <thead>\n",
       "    <tr style=\"text-align: right;\">\n",
       "      <th></th>\n",
       "      <th>title</th>\n",
       "      <th>upc</th>\n",
       "      <th>category</th>\n",
       "      <th>price_e_tax</th>\n",
       "      <th>price_i_tax</th>\n",
       "      <th>tax</th>\n",
       "      <th>rating</th>\n",
       "      <th>reviews</th>\n",
       "      <th>quantity</th>\n",
       "      <th>stock</th>\n",
       "      <th>book_link</th>\n",
       "      <th>img_link</th>\n",
       "    </tr>\n",
       "  </thead>\n",
       "  <tbody>\n",
       "    <tr>\n",
       "      <th>0</th>\n",
       "      <td>A Light in the Attic</td>\n",
       "      <td>a897fe39b1053632</td>\n",
       "      <td>Poetry</td>\n",
       "      <td>Poetry</td>\n",
       "      <td>Poetry</td>\n",
       "      <td>0.00</td>\n",
       "      <td>Three</td>\n",
       "      <td>0</td>\n",
       "      <td>In stock (22 available)</td>\n",
       "      <td>In stock</td>\n",
       "      <td>https://books.toscrape.com/catalogue/a-light-i...</td>\n",
       "      <td>https://books.toscrape.com/catalogue/media/cac...</td>\n",
       "    </tr>\n",
       "    <tr>\n",
       "      <th>1</th>\n",
       "      <td>Tipping the Velvet</td>\n",
       "      <td>90fa61229261140a</td>\n",
       "      <td>Historical Fiction</td>\n",
       "      <td>Historical Fiction</td>\n",
       "      <td>Historical Fiction</td>\n",
       "      <td>0.00</td>\n",
       "      <td>One</td>\n",
       "      <td>0</td>\n",
       "      <td>In stock (20 available)</td>\n",
       "      <td>In stock</td>\n",
       "      <td>https://books.toscrape.com/catalogue/tipping-t...</td>\n",
       "      <td>https://books.toscrape.com/catalogue/media/cac...</td>\n",
       "    </tr>\n",
       "    <tr>\n",
       "      <th>2</th>\n",
       "      <td>Soumission</td>\n",
       "      <td>6957f44c3847a760</td>\n",
       "      <td>Fiction</td>\n",
       "      <td>Fiction</td>\n",
       "      <td>Fiction</td>\n",
       "      <td>0.00</td>\n",
       "      <td>One</td>\n",
       "      <td>0</td>\n",
       "      <td>In stock (20 available)</td>\n",
       "      <td>In stock</td>\n",
       "      <td>https://books.toscrape.com/catalogue/soumissio...</td>\n",
       "      <td>https://books.toscrape.com/catalogue/media/cac...</td>\n",
       "    </tr>\n",
       "    <tr>\n",
       "      <th>3</th>\n",
       "      <td>Sharp Objects</td>\n",
       "      <td>e00eb4fd7b871a48</td>\n",
       "      <td>Mystery</td>\n",
       "      <td>Mystery</td>\n",
       "      <td>Mystery</td>\n",
       "      <td>0.00</td>\n",
       "      <td>Four</td>\n",
       "      <td>0</td>\n",
       "      <td>In stock (20 available)</td>\n",
       "      <td>In stock</td>\n",
       "      <td>https://books.toscrape.com/catalogue/sharp-obj...</td>\n",
       "      <td>https://books.toscrape.com/catalogue/media/cac...</td>\n",
       "    </tr>\n",
       "    <tr>\n",
       "      <th>4</th>\n",
       "      <td>Sapiens: A Brief History of Humankind</td>\n",
       "      <td>4165285e1663650f</td>\n",
       "      <td>History</td>\n",
       "      <td>History</td>\n",
       "      <td>History</td>\n",
       "      <td>0.00</td>\n",
       "      <td>Five</td>\n",
       "      <td>0</td>\n",
       "      <td>In stock (20 available)</td>\n",
       "      <td>In stock</td>\n",
       "      <td>https://books.toscrape.com/catalogue/sapiens-a...</td>\n",
       "      <td>https://books.toscrape.com/catalogue/media/cac...</td>\n",
       "    </tr>\n",
       "  </tbody>\n",
       "</table>\n",
       "</div>"
      ],
      "text/plain": [
       "                                   title               upc  \\\n",
       "0                   A Light in the Attic  a897fe39b1053632   \n",
       "1                     Tipping the Velvet  90fa61229261140a   \n",
       "2                             Soumission  6957f44c3847a760   \n",
       "3                          Sharp Objects  e00eb4fd7b871a48   \n",
       "4  Sapiens: A Brief History of Humankind  4165285e1663650f   \n",
       "\n",
       "             category         price_e_tax         price_i_tax   tax rating  \\\n",
       "0              Poetry              Poetry              Poetry  0.00  Three   \n",
       "1  Historical Fiction  Historical Fiction  Historical Fiction  0.00    One   \n",
       "2             Fiction             Fiction             Fiction  0.00    One   \n",
       "3             Mystery             Mystery             Mystery  0.00   Four   \n",
       "4             History             History             History  0.00   Five   \n",
       "\n",
       "  reviews                 quantity     stock  \\\n",
       "0       0  In stock (22 available)  In stock   \n",
       "1       0  In stock (20 available)  In stock   \n",
       "2       0  In stock (20 available)  In stock   \n",
       "3       0  In stock (20 available)  In stock   \n",
       "4       0  In stock (20 available)  In stock   \n",
       "\n",
       "                                           book_link  \\\n",
       "0  https://books.toscrape.com/catalogue/a-light-i...   \n",
       "1  https://books.toscrape.com/catalogue/tipping-t...   \n",
       "2  https://books.toscrape.com/catalogue/soumissio...   \n",
       "3  https://books.toscrape.com/catalogue/sharp-obj...   \n",
       "4  https://books.toscrape.com/catalogue/sapiens-a...   \n",
       "\n",
       "                                            img_link  \n",
       "0  https://books.toscrape.com/catalogue/media/cac...  \n",
       "1  https://books.toscrape.com/catalogue/media/cac...  \n",
       "2  https://books.toscrape.com/catalogue/media/cac...  \n",
       "3  https://books.toscrape.com/catalogue/media/cac...  \n",
       "4  https://books.toscrape.com/catalogue/media/cac...  "
      ]
     },
     "execution_count": 46,
     "metadata": {},
     "output_type": "execute_result"
    }
   ],
   "source": [
    "final_df.head()"
   ]
  },
  {
   "cell_type": "code",
   "execution_count": 47,
   "id": "92d8028d",
   "metadata": {},
   "outputs": [
    {
     "data": {
      "text/plain": [
       "title          0\n",
       "upc            0\n",
       "category       0\n",
       "price_e_tax    0\n",
       "price_i_tax    0\n",
       "tax            0\n",
       "rating         0\n",
       "reviews        0\n",
       "quantity       0\n",
       "stock          0\n",
       "book_link      0\n",
       "img_link       0\n",
       "dtype: int64"
      ]
     },
     "execution_count": 47,
     "metadata": {},
     "output_type": "execute_result"
    }
   ],
   "source": [
    "final_df.isnull().sum()"
   ]
  },
  {
   "cell_type": "code",
   "execution_count": 48,
   "id": "2faf6121",
   "metadata": {},
   "outputs": [],
   "source": [
    "final_df.to_csv('Final.csv',index= False)"
   ]
  },
  {
   "cell_type": "code",
   "execution_count": null,
   "id": "1900e857",
   "metadata": {},
   "outputs": [],
   "source": []
  }
 ],
 "metadata": {
  "kernelspec": {
   "display_name": "Python 3 (ipykernel)",
   "language": "python",
   "name": "python3"
  },
  "language_info": {
   "codemirror_mode": {
    "name": "ipython",
    "version": 3
   },
   "file_extension": ".py",
   "mimetype": "text/x-python",
   "name": "python",
   "nbconvert_exporter": "python",
   "pygments_lexer": "ipython3",
   "version": "3.11.4"
  }
 },
 "nbformat": 4,
 "nbformat_minor": 5
}
